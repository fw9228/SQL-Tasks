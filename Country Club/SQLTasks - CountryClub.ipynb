{
 "cells": [
  {
   "cell_type": "markdown",
   "metadata": {},
   "source": [
    "# PART 1"
   ]
  },
  {
   "cell_type": "markdown",
   "metadata": {},
   "source": [
    "**Q1: Some of the facilities charge a fee to members, but some do not. Write a SQL query to produce a list of the names of the facilities that do.**"
   ]
  },
  {
   "cell_type": "code",
   "execution_count": null,
   "metadata": {},
   "outputs": [],
   "source": [
    "SELECT name\n",
    "FROM `Facilities`\n",
    "WHERE membercost >0"
   ]
  },
  {
   "cell_type": "markdown",
   "metadata": {},
   "source": [
    "**Q2: How many facilities do not charge a fee to members?**"
   ]
  },
  {
   "cell_type": "code",
   "execution_count": null,
   "metadata": {},
   "outputs": [],
   "source": [
    "SELECT COUNT(name)\n",
    "FROM `Facilities`\n",
    "WHERE membercost = 0"
   ]
  },
  {
   "cell_type": "markdown",
   "metadata": {},
   "source": [
    "**Q3: Write an SQL query to show a list of facilities that charge a fee to members,\n",
    "where the fee is less than 20% of the facility's monthly maintenance cost.\n",
    "Return the facid, facility name, member cost, and monthly maintenance of the\n",
    "facilities in question.**"
   ]
  },
  {
   "cell_type": "code",
   "execution_count": null,
   "metadata": {},
   "outputs": [],
   "source": [
    "SELECT \n",
    "  facid,\n",
    "  name,\n",
    "  membercost,\n",
    "  monthlymaintenance,\n",
    "  membercost/monthlymaintenance AS 'member_maintenance'\n",
    "FROM  `Facilities` \n",
    "WHERE 'member_maintenance' < 0.2 \n",
    "  AND  membercost > 0.0"
   ]
  },
  {
   "cell_type": "markdown",
   "metadata": {},
   "source": [
    "**Q4: Write an SQL query to retrieve the details of facilities with ID 1 and 5.\n",
    "Try writing the query without using the OR operator.**"
   ]
  },
  {
   "cell_type": "code",
   "execution_count": null,
   "metadata": {},
   "outputs": [],
   "source": [
    "SELECT * \n",
    "FROM  `Facilities` \n",
    "WHERE  `initialoutlay` <10000\n",
    "AND  `membercost` >=5\n",
    "AND  `facid` !=4"
   ]
  },
  {
   "cell_type": "markdown",
   "metadata": {},
   "source": [
    "**Q5: Produce a list of facilities, with each labelled as 'cheap' or 'expensive', depending on if their monthly maintenance cost is more than $100. Return the name and monthly maintenance of the facilities in question.**"
   ]
  },
  {
   "cell_type": "code",
   "execution_count": null,
   "metadata": {},
   "outputs": [],
   "source": [
    "SELECT \n",
    "  name,\n",
    "  monthlymaintenance,\n",
    "CASE\n",
    "    WHEN `monthlymaintenance` <= 100 THEN 'cheap'\n",
    "    WHEN `monthlymaintenance` > 100 THEN 'expensive'\n",
    "END AS cost_type\n",
    "FROM `Facilities` \n",
    "  ORDER BY cost_type"
   ]
  },
  {
   "cell_type": "markdown",
   "metadata": {},
   "source": [
    "**Q6: You'd like to get the first and last name of the last member(s) who signed up. Try not to use the LIMIT clause for your solution.**"
   ]
  },
  {
   "cell_type": "code",
   "execution_count": null,
   "metadata": {},
   "outputs": [],
   "source": [
    "SELECT\n",
    "  surname,\n",
    "  firstname\n",
    "FROM Members\n",
    "ORDER BY `joindate` DESC\n",
    "LIMIT 1"
   ]
  },
  {
   "cell_type": "markdown",
   "metadata": {},
   "source": [
    "**Q7: Produce a list of all members who have used a tennis court. Include in your output the name of the court, and the name of the member formatted as a single column. Ensure no duplicate data, and order by\n",
    "the member name.**"
   ]
  },
  {
   "cell_type": "code",
   "execution_count": null,
   "metadata": {},
   "outputs": [],
   "source": [
    "SELECT DISTINCT CONCAT(m.firstname,' ', m.surname,' ', f.name )\n",
    "FROM Bookings AS b\n",
    "LEFT JOIN Facilities AS f\n",
    "ON b.facid = f.facid\n",
    "LEFT JOIN Members AS m\n",
    "ON b.memid = m.memid\n",
    "WHERE f.name LIKE 'Tennis Court%'\n",
    "ORDER BY m.surname"
   ]
  },
  {
   "cell_type": "markdown",
   "metadata": {},
   "source": [
    "**Q8: Produce a list of bookings on the day of 2012-09-14 which will cost the member (or guest) more than $30. Remember that guests have different costs to members (the listed costs are per half-hour 'slot'), and the guest user's ID is always 0. Include in your output the name of the facility, the name of the member formatted as a single column, and the cost. Order by descending cost, and do not use any subqueries.**"
   ]
  },
  {
   "cell_type": "code",
   "execution_count": null,
   "metadata": {},
   "outputs": [],
   "source": [
    "SELECT\n",
    "  Facilities.name as fac_name,\n",
    "  CONCAT(Members.surname,' ',Members.firstname) AS mem_name,\n",
    "  CASE WHEN Bookings.memid = 0 THEN Facilities.guestcost*Bookings.slots\n",
    "       ELSE Facilities.membercost*Bookings.slots END AS Costs\n",
    "FROM Bookings\n",
    "LEFT JOIN Facilities\n",
    "ON Bookings.facid = Facilities.facid\n",
    "LEFT JOIN Members\n",
    "ON Bookings.memid = Members.memid\n",
    "WHERE DATE_FORMAT(Bookings.starttime, '%Y-%m-%d') = '2012-09-14'\n",
    "HAVING Costs > 30\n",
    "ORDER BY Costs DESC"
   ]
  },
  {
   "cell_type": "markdown",
   "metadata": {},
   "source": [
    "**Q9: This time, produce the same result as in Q8, but using a subquery.**"
   ]
  },
  {
   "cell_type": "code",
   "execution_count": null,
   "metadata": {},
   "outputs": [],
   "source": [
    "SELECT \n",
    "  CONCAT(Members.surname,' ',Members.firstname) AS mem_name,\n",
    "  Members.memid,\n",
    "  sub1.fac_name,\n",
    "  sub1.Costs\n",
    "  FROM Members\n",
    "\n",
    "  RIGHT JOIN(\n",
    "    SELECT \n",
    "    Facilities.name as fac_name,\n",
    "    Bookings.memid,\n",
    "    CASE WHEN Bookings.memid = 0 THEN Facilities.guestcost*Bookings.slots\n",
    "       ELSE Facilities.membercost*Bookings.slots END AS Costs\n",
    "    FROM Bookings\n",
    "    LEFT JOIN Facilities\n",
    "    ON Bookings.facid = Facilities.facid\n",
    "    WHERE DATE_FORMAT(Bookings.starttime, '%Y-%m-%d') = '2012-09-14'\n",
    "    HAVING Costs > 30\n",
    "    ) sub1\n",
    "  ON sub1.memid = Members.memid\n",
    "  ORDER BY COSTS DESC"
   ]
  },
  {
   "cell_type": "markdown",
   "metadata": {},
   "source": [
    "# PART 2"
   ]
  },
  {
   "cell_type": "markdown",
   "metadata": {},
   "source": [
    "**Q10: Produce a list of facilities with a total revenue less than 1000. The output of facility name and total revenue, sorted by revenue. Remember that there's a different cost for guests and members!**"
   ]
  },
  {
   "cell_type": "code",
   "execution_count": null,
   "metadata": {},
   "outputs": [],
   "source": [
    "SELECT facility, SUM(cost) FROM (\n",
    "    SELECT f.name AS facility, SUM(f.membercost) AS cost\n",
    "    FROM Facilities AS f\n",
    "    INNER JOIN Bookings AS b\n",
    "    ON b.facid = f.facid\n",
    "    WHERE b.memid != 0\n",
    "    GROUP BY facility\n",
    "UNION ALL\n",
    "    SELECT f.name AS facility, SUM(f.guestcost) AS cost\n",
    "    FROM Facilities AS f\n",
    "    INNER JOIN Bookings AS b\n",
    "    ON b.facid = f.facid\n",
    "    WHERE b.memid = 0\n",
    "    GROUP BY facility) as db\n",
    "WHERE cost < 1000\n",
    "GROUP BY facility\n",
    "ORDER BY cost DESC"
   ]
  },
  {
   "cell_type": "markdown",
   "metadata": {},
   "source": [
    "**Q11: Produce a report of members and who recommended them in alphabetic surname,firstname order**"
   ]
  },
  {
   "cell_type": "code",
   "execution_count": null,
   "metadata": {},
   "outputs": [],
   "source": [
    "SELECT m.surname, m.firstname, (r.surname || ' ' || r.firstname)\n",
    "FROM Members AS m\n",
    "LEFT JOIN Members AS r\n",
    "ON r.recommendedby = m.memid\n",
    "ORDER BY m.surname, m.firstname;"
   ]
  },
  {
   "cell_type": "markdown",
   "metadata": {},
   "source": [
    "**Q12: Find the facilities with their usage by member, but not guests.**"
   ]
  },
  {
   "cell_type": "code",
   "execution_count": null,
   "metadata": {},
   "outputs": [],
   "source": [
    "SELECT f.name AS facility, sub.usage AS usage\n",
    "FROM Facilities AS f\n",
    "JOIN (SELECT facid, COUNT(memid) AS usage\n",
    "FROM Bookings\n",
    "GROUP BY facid) AS sub\n",
    "ON f.facid = sub.facid\n",
    "ORDER by usage DESC"
   ]
  },
  {
   "cell_type": "markdown",
   "metadata": {},
   "source": [
    "**Q13: Find the facilities usage by month, but not guests.**"
   ]
  },
  {
   "cell_type": "code",
   "execution_count": null,
   "metadata": {},
   "outputs": [],
   "source": [
    "SELECT f.name AS facility, sub.usage AS usage\n",
    "FROM Facilities AS f\n",
    "JOIN (SELECT facid, STRFTIME('%m', starttime) AS usage\n",
    "FROM Bookings\n",
    "WHERE memid != 0) AS sub\n",
    "ON f.facid = sub.facid\n",
    "ORDER by usage DESC"
   ]
  }
 ],
 "metadata": {
  "kernelspec": {
   "display_name": "Python 3",
   "language": "python",
   "name": "python3"
  },
  "language_info": {
   "codemirror_mode": {
    "name": "ipython",
    "version": 3
   },
   "file_extension": ".py",
   "mimetype": "text/x-python",
   "name": "python",
   "nbconvert_exporter": "python",
   "pygments_lexer": "ipython3",
   "version": "3.7.6"
  }
 },
 "nbformat": 4,
 "nbformat_minor": 4
}
